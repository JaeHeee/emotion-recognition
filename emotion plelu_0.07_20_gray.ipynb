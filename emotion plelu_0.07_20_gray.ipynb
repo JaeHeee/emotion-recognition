{
 "cells": [
  {
   "cell_type": "code",
   "execution_count": 2,
   "metadata": {},
   "outputs": [],
   "source": [
    "import sys, os\n",
    "import pandas as pd\n",
    "import numpy as np\n",
    "import matplotlib.pyplot as plt\n",
    "from PIL import Image\n",
    "from sklearn.model_selection import train_test_split\n",
    "from keras.models import Sequential\n",
    "from keras.layers import Dense, Dropout, Activation, Flatten, PReLU\n",
    "from keras.layers import Conv2D, MaxPooling2D, BatchNormalization, AveragePooling2D\n",
    "from keras.losses import categorical_crossentropy\n",
    "from keras.optimizers import SGD, adadelta\n",
    "from keras.regularizers import l2\n",
    "from keras.callbacks import ReduceLROnPlateau, TensorBoard, EarlyStopping, ModelCheckpoint\n",
    "from keras.models import load_model\n",
    "from keras.utils import to_categorical\n",
    "from keras.preprocessing import image"
   ]
  },
  {
   "cell_type": "code",
   "execution_count": 3,
   "metadata": {},
   "outputs": [
    {
     "name": "stdout",
     "output_type": "stream",
     "text": [
      "WARNING:tensorflow:From C:\\Users\\jaehee\\Anaconda3\\envs\\venv\\lib\\site-packages\\tensorflow\\python\\framework\\op_def_library.py:263: colocate_with (from tensorflow.python.framework.ops) is deprecated and will be removed in a future version.\n",
      "Instructions for updating:\n",
      "Colocations handled automatically by placer.\n"
     ]
    },
    {
     "name": "stderr",
     "output_type": "stream",
     "text": [
      "C:\\Users\\jaehee\\Anaconda3\\envs\\venv\\lib\\site-packages\\ipykernel_launcher.py:3: UserWarning: Update your `PReLU` call to the Keras 2 API: `PReLU(weights=None, alpha_initializer=\"zero\")`\n",
      "  This is separate from the ipykernel package so we can avoid doing imports until\n",
      "C:\\Users\\jaehee\\Anaconda3\\envs\\venv\\lib\\site-packages\\ipykernel_launcher.py:8: UserWarning: Update your `PReLU` call to the Keras 2 API: `PReLU(weights=None, alpha_initializer=\"zero\")`\n",
      "  \n",
      "C:\\Users\\jaehee\\Anaconda3\\envs\\venv\\lib\\site-packages\\ipykernel_launcher.py:11: UserWarning: Update your `PReLU` call to the Keras 2 API: `PReLU(weights=None, alpha_initializer=\"zero\")`\n",
      "  # This is added back by InteractiveShellApp.init_path()\n",
      "C:\\Users\\jaehee\\Anaconda3\\envs\\venv\\lib\\site-packages\\ipykernel_launcher.py:15: UserWarning: Update your `PReLU` call to the Keras 2 API: `PReLU(weights=None, alpha_initializer=\"zero\")`\n",
      "  from ipykernel import kernelapp as app\n",
      "C:\\Users\\jaehee\\Anaconda3\\envs\\venv\\lib\\site-packages\\ipykernel_launcher.py:18: UserWarning: Update your `PReLU` call to the Keras 2 API: `PReLU(weights=None, alpha_initializer=\"zero\")`\n"
     ]
    },
    {
     "name": "stdout",
     "output_type": "stream",
     "text": [
      "WARNING:tensorflow:From C:\\Users\\jaehee\\Anaconda3\\envs\\venv\\lib\\site-packages\\keras-2.2.4-py3.6.egg\\keras\\backend\\tensorflow_backend.py:3721: calling dropout (from tensorflow.python.ops.nn_ops) with keep_prob is deprecated and will be removed in a future version.\n",
      "Instructions for updating:\n",
      "Please use `rate` instead of `keep_prob`. Rate should be set to `rate = 1 - keep_prob`.\n"
     ]
    },
    {
     "name": "stderr",
     "output_type": "stream",
     "text": [
      "C:\\Users\\jaehee\\Anaconda3\\envs\\venv\\lib\\site-packages\\ipykernel_launcher.py:24: UserWarning: Update your `PReLU` call to the Keras 2 API: `PReLU(weights=None, alpha_initializer=\"zero\")`\n",
      "C:\\Users\\jaehee\\Anaconda3\\envs\\venv\\lib\\site-packages\\ipykernel_launcher.py:27: UserWarning: Update your `PReLU` call to the Keras 2 API: `PReLU(weights=None, alpha_initializer=\"zero\")`\n"
     ]
    }
   ],
   "source": [
    "model = Sequential()\n",
    "model.add(Conv2D(64,(5,5),input_shape =(64,64,1),padding='same'))\n",
    "model.add(PReLU(init='zero',weights=None))\n",
    "model.add(BatchNormalization())\n",
    "model.add(MaxPooling2D((5, 5),strides=(2,2)))  ## 24 x 24\n",
    "\n",
    "model.add(Conv2D(64, (3, 3), strides=1, padding='same'))\n",
    "model.add(PReLU(init='zero', weights=None))\n",
    "model.add(BatchNormalization())\n",
    "model.add(Conv2D(64, (3, 3), strides=1, padding='same'))\n",
    "model.add(PReLU(init='zero', weights=None))\n",
    "model.add(AveragePooling2D((3,3),strides=(2,2)))\n",
    "\n",
    "model.add(Conv2D(128, (3, 3), strides=1, padding='same'))\n",
    "model.add(PReLU(init='zero', weights=None))\n",
    "model.add(BatchNormalization())\n",
    "model.add(Conv2D(128, (3, 3), strides=1, padding='same'))\n",
    "model.add(PReLU(init='zero', weights=None))\n",
    "model.add(BatchNormalization())\n",
    "model.add(AveragePooling2D((3,3),strides=(2,2)))\n",
    "\n",
    "model.add(Flatten())\n",
    "model.add(Dense(1024))\n",
    "model.add(PReLU(init='zero', weights=None))\n",
    "model.add(Dropout(0.2))\n",
    "model.add(Dense(1024))\n",
    "model.add(PReLU(init='zero', weights=None))\n",
    "model.add(Dropout(0.2))\n",
    "model.add(Dense(5, activation='softmax'))"
   ]
  },
  {
   "cell_type": "code",
   "execution_count": 4,
   "metadata": {},
   "outputs": [
    {
     "ename": "ImportError",
     "evalue": "Failed to import `pydot`. Please install `pydot`. For example with `pip install pydot`.",
     "output_type": "error",
     "traceback": [
      "\u001b[1;31m---------------------------------------------------------------------------\u001b[0m",
      "\u001b[1;31mImportError\u001b[0m                               Traceback (most recent call last)",
      "\u001b[1;32m<ipython-input-4-4229baf8f708>\u001b[0m in \u001b[0;36m<module>\u001b[1;34m\u001b[0m\n\u001b[0;32m      4\u001b[0m \u001b[0mget_ipython\u001b[0m\u001b[1;33m(\u001b[0m\u001b[1;33m)\u001b[0m\u001b[1;33m.\u001b[0m\u001b[0mrun_line_magic\u001b[0m\u001b[1;33m(\u001b[0m\u001b[1;34m'matplotlib'\u001b[0m\u001b[1;33m,\u001b[0m \u001b[1;34m'inline'\u001b[0m\u001b[1;33m)\u001b[0m\u001b[1;33m\u001b[0m\u001b[1;33m\u001b[0m\u001b[0m\n\u001b[0;32m      5\u001b[0m \u001b[1;33m\u001b[0m\u001b[0m\n\u001b[1;32m----> 6\u001b[1;33m \u001b[0mSVG\u001b[0m\u001b[1;33m(\u001b[0m\u001b[0mmodel_to_dot\u001b[0m\u001b[1;33m(\u001b[0m\u001b[0mmodel\u001b[0m\u001b[1;33m,\u001b[0m \u001b[0mshow_shapes\u001b[0m\u001b[1;33m=\u001b[0m\u001b[1;32mTrue\u001b[0m\u001b[1;33m)\u001b[0m\u001b[1;33m.\u001b[0m\u001b[0mcreate\u001b[0m\u001b[1;33m(\u001b[0m\u001b[0mprog\u001b[0m\u001b[1;33m=\u001b[0m\u001b[1;34m'dot'\u001b[0m\u001b[1;33m,\u001b[0m\u001b[0mformat\u001b[0m\u001b[1;33m=\u001b[0m\u001b[1;34m'svg'\u001b[0m\u001b[1;33m)\u001b[0m\u001b[1;33m)\u001b[0m\u001b[1;33m\u001b[0m\u001b[1;33m\u001b[0m\u001b[0m\n\u001b[0m",
      "\u001b[1;32m~\\Anaconda3\\envs\\venv\\lib\\site-packages\\keras-2.2.4-py3.6.egg\\keras\\utils\\vis_utils.py\u001b[0m in \u001b[0;36mmodel_to_dot\u001b[1;34m(model, show_shapes, show_layer_names, rankdir, expand_nested, dpi, subgraph)\u001b[0m\n\u001b[0;32m     77\u001b[0m     \u001b[1;32mfrom\u001b[0m \u001b[1;33m.\u001b[0m\u001b[1;33m.\u001b[0m\u001b[0mmodels\u001b[0m \u001b[1;32mimport\u001b[0m \u001b[0mSequential\u001b[0m\u001b[1;33m\u001b[0m\u001b[1;33m\u001b[0m\u001b[0m\n\u001b[0;32m     78\u001b[0m \u001b[1;33m\u001b[0m\u001b[0m\n\u001b[1;32m---> 79\u001b[1;33m     \u001b[0m_check_pydot\u001b[0m\u001b[1;33m(\u001b[0m\u001b[1;33m)\u001b[0m\u001b[1;33m\u001b[0m\u001b[1;33m\u001b[0m\u001b[0m\n\u001b[0m\u001b[0;32m     80\u001b[0m     \u001b[1;32mif\u001b[0m \u001b[0msubgraph\u001b[0m\u001b[1;33m:\u001b[0m\u001b[1;33m\u001b[0m\u001b[1;33m\u001b[0m\u001b[0m\n\u001b[0;32m     81\u001b[0m         \u001b[0mdot\u001b[0m \u001b[1;33m=\u001b[0m \u001b[0mpydot\u001b[0m\u001b[1;33m.\u001b[0m\u001b[0mCluster\u001b[0m\u001b[1;33m(\u001b[0m\u001b[0mstyle\u001b[0m\u001b[1;33m=\u001b[0m\u001b[1;34m'dashed'\u001b[0m\u001b[1;33m,\u001b[0m \u001b[0mgraph_name\u001b[0m\u001b[1;33m=\u001b[0m\u001b[0mmodel\u001b[0m\u001b[1;33m.\u001b[0m\u001b[0mname\u001b[0m\u001b[1;33m)\u001b[0m\u001b[1;33m\u001b[0m\u001b[1;33m\u001b[0m\u001b[0m\n",
      "\u001b[1;32m~\\Anaconda3\\envs\\venv\\lib\\site-packages\\keras-2.2.4-py3.6.egg\\keras\\utils\\vis_utils.py\u001b[0m in \u001b[0;36m_check_pydot\u001b[1;34m()\u001b[0m\n\u001b[0;32m     20\u001b[0m     \u001b[1;32mif\u001b[0m \u001b[0mpydot\u001b[0m \u001b[1;32mis\u001b[0m \u001b[1;32mNone\u001b[0m\u001b[1;33m:\u001b[0m\u001b[1;33m\u001b[0m\u001b[1;33m\u001b[0m\u001b[0m\n\u001b[0;32m     21\u001b[0m         raise ImportError(\n\u001b[1;32m---> 22\u001b[1;33m             \u001b[1;34m'Failed to import `pydot`. '\u001b[0m\u001b[1;33m\u001b[0m\u001b[1;33m\u001b[0m\u001b[0m\n\u001b[0m\u001b[0;32m     23\u001b[0m             \u001b[1;34m'Please install `pydot`. '\u001b[0m\u001b[1;33m\u001b[0m\u001b[1;33m\u001b[0m\u001b[0m\n\u001b[0;32m     24\u001b[0m             'For example with `pip install pydot`.')\n",
      "\u001b[1;31mImportError\u001b[0m: Failed to import `pydot`. Please install `pydot`. For example with `pip install pydot`."
     ]
    }
   ],
   "source": [
    "from IPython.display import SVG\n",
    "from keras.utils.vis_utils import model_to_dot\n",
    "\n",
    "%matplotlib inline\n",
    "\n",
    "SVG(model_to_dot(model, show_shapes=True).create(prog='dot',format='svg'))"
   ]
  },
  {
   "cell_type": "code",
   "execution_count": 5,
   "metadata": {},
   "outputs": [
    {
     "name": "stdout",
     "output_type": "stream",
     "text": [
      "Found 40000 images belonging to 5 classes.\n",
      "Found 8654 images belonging to 5 classes.\n"
     ]
    }
   ],
   "source": [
    "from keras.preprocessing.image import ImageDataGenerator\n",
    "train_datagen = ImageDataGenerator(rescale=1./255)\n",
    "\n",
    "train_generator = train_datagen.flow_from_directory(\n",
    "        './data/FER2013Train/',\n",
    "        target_size=(64, 64),\n",
    "        color_mode=\"grayscale\",\n",
    "        batch_size=24,\n",
    "        class_mode='categorical')\n",
    "\n",
    "test_datagen = ImageDataGenerator(rescale=1./255)\n",
    "\n",
    "test_generator = test_datagen.flow_from_directory(\n",
    "        './data/FER2013Test/',\n",
    "        target_size=(64, 64),\n",
    "        color_mode=\"grayscale\",\n",
    "        batch_size=5,\n",
    "        class_mode='categorical')"
   ]
  },
  {
   "cell_type": "code",
   "execution_count": 6,
   "metadata": {},
   "outputs": [
    {
     "name": "stdout",
     "output_type": "stream",
     "text": [
      "Epoch 1/30\n",
      "1666/1666 [==============================] - 3056s 2s/step - loss: 1.0204 - acc: 0.6008 - val_loss: 1.0329 - val_acc: 0.6156\n",
      "Epoch 2/30\n",
      "1666/1666 [==============================] - 2695s 2s/step - loss: 0.8568 - acc: 0.6707 - val_loss: 0.9547 - val_acc: 0.6348\n",
      "Epoch 3/30\n",
      "1666/1666 [==============================] - 2656s 2s/step - loss: 0.7609 - acc: 0.7107 - val_loss: 0.9583 - val_acc: 0.6663\n",
      "Epoch 4/30\n",
      "1666/1666 [==============================] - 3476s 2s/step - loss: 0.6833 - acc: 0.7434 - val_loss: 0.8956 - val_acc: 0.6800\n",
      "Epoch 5/30\n",
      "1666/1666 [==============================] - 5091s 3s/step - loss: 0.6251 - acc: 0.7657 - val_loss: 0.8322 - val_acc: 0.6952\n",
      "Epoch 6/30\n",
      "1666/1666 [==============================] - 3411s 2s/step - loss: 0.5739 - acc: 0.7863 - val_loss: 1.1177 - val_acc: 0.6612\n",
      "Epoch 7/30\n",
      "1666/1666 [==============================] - 4439s 3s/step - loss: 0.5300 - acc: 0.8067 - val_loss: 0.8309 - val_acc: 0.6906\n",
      "Epoch 8/30\n",
      "1666/1666 [==============================] - 8176s 5s/step - loss: 0.4838 - acc: 0.8247 - val_loss: 0.7983 - val_acc: 0.7222\n",
      "Epoch 9/30\n",
      "1666/1666 [==============================] - 2718s 2s/step - loss: 0.4457 - acc: 0.8408 - val_loss: 0.8647 - val_acc: 0.7218\n",
      "Epoch 10/30\n",
      "1666/1666 [==============================] - 2698s 2s/step - loss: 0.4144 - acc: 0.8521 - val_loss: 1.0984 - val_acc: 0.7009\n",
      "Epoch 11/30\n",
      "1666/1666 [==============================] - 2737s 2s/step - loss: 0.3795 - acc: 0.8663 - val_loss: 0.8612 - val_acc: 0.7326\n",
      "Epoch 12/30\n",
      "1666/1666 [==============================] - 2874s 2s/step - loss: 0.3489 - acc: 0.8778 - val_loss: 0.7777 - val_acc: 0.7433\n",
      "Epoch 13/30\n",
      "1666/1666 [==============================] - 2725s 2s/step - loss: 0.3156 - acc: 0.8899 - val_loss: 0.8521 - val_acc: 0.7446\n",
      "Epoch 14/30\n",
      "1666/1666 [==============================] - 2741s 2s/step - loss: 0.2938 - acc: 0.8984 - val_loss: 0.8360 - val_acc: 0.7429\n",
      "Epoch 15/30\n",
      "1666/1666 [==============================] - 2743s 2s/step - loss: 0.2652 - acc: 0.9095 - val_loss: 0.8115 - val_acc: 0.7454\n",
      "Epoch 16/30\n",
      "1666/1666 [==============================] - 2749s 2s/step - loss: 0.2443 - acc: 0.9164 - val_loss: 0.7511 - val_acc: 0.7556\n",
      "Epoch 17/30\n",
      "1666/1666 [==============================] - 2749s 2s/step - loss: 0.2197 - acc: 0.9265 - val_loss: 0.8509 - val_acc: 0.7471\n",
      "Epoch 18/30\n",
      "1666/1666 [==============================] - 2752s 2s/step - loss: 0.2025 - acc: 0.9343 - val_loss: 1.0034 - val_acc: 0.7442\n",
      "Epoch 19/30\n",
      "1666/1666 [==============================] - 2766s 2s/step - loss: 0.1816 - acc: 0.9403 - val_loss: 1.0463 - val_acc: 0.7388\n",
      "Epoch 20/30\n",
      "1666/1666 [==============================] - 2753s 2s/step - loss: 0.1634 - acc: 0.9479 - val_loss: 0.8954 - val_acc: 0.7556\n",
      "Epoch 21/30\n",
      "1666/1666 [==============================] - 2760s 2s/step - loss: 0.1489 - acc: 0.9521 - val_loss: 1.0939 - val_acc: 0.7365\n",
      "Epoch 22/30\n",
      "1666/1666 [==============================] - 2749s 2s/step - loss: 0.1357 - acc: 0.9570 - val_loss: 0.9438 - val_acc: 0.7540\n",
      "Epoch 23/30\n",
      "1666/1666 [==============================] - 2757s 2s/step - loss: 0.1222 - acc: 0.9612 - val_loss: 1.0157 - val_acc: 0.7558\n",
      "Epoch 24/30\n",
      "1666/1666 [==============================] - 2759s 2s/step - loss: 0.1107 - acc: 0.9660 - val_loss: 0.8433 - val_acc: 0.7630\n",
      "Epoch 25/30\n",
      "1666/1666 [==============================] - 2753s 2s/step - loss: 0.0996 - acc: 0.9699 - val_loss: 0.9501 - val_acc: 0.7616\n",
      "Epoch 26/30\n",
      "1666/1666 [==============================] - 2824s 2s/step - loss: 0.0900 - acc: 0.9736 - val_loss: 0.9002 - val_acc: 0.7637\n",
      "Epoch 27/30\n",
      "1666/1666 [==============================] - 2861s 2s/step - loss: 0.0837 - acc: 0.9758 - val_loss: 0.9179 - val_acc: 0.7601\n",
      "Epoch 28/30\n",
      "1666/1666 [==============================] - 2831s 2s/step - loss: 0.0776 - acc: 0.9770 - val_loss: 1.2375 - val_acc: 0.7493\n",
      "Epoch 29/30\n",
      "1666/1666 [==============================] - 2792s 2s/step - loss: 0.0690 - acc: 0.9801 - val_loss: 0.9396 - val_acc: 0.7662\n",
      "Epoch 30/30\n",
      "1666/1666 [==============================] - 7238s 4s/step - loss: 0.0648 - acc: 0.9818 - val_loss: 1.1330 - val_acc: 0.7526\n"
     ]
    },
    {
     "data": {
      "text/plain": [
       "<keras.callbacks.History at 0x2803b953630>"
      ]
     },
     "execution_count": 6,
     "metadata": {},
     "output_type": "execute_result"
    }
   ],
   "source": [
    "model.compile(loss='categorical_crossentropy'\n",
    ", optimizer=adadelta(lr=0.03, rho=0.95,epsilon=1e-08)\n",
    ", metrics=['accuracy']\n",
    ")\n",
    " \n",
    "model.fit_generator(train_generator, steps_per_epoch=1666, epochs=30,\n",
    "                    validation_data=test_generator,validation_steps=1730)"
   ]
  },
  {
   "cell_type": "code",
   "execution_count": 7,
   "metadata": {},
   "outputs": [
    {
     "name": "stdout",
     "output_type": "stream",
     "text": [
      "-- Evaluate --\n",
      "acc: 75.19%\n",
      " -------------------------------------------------------------------------\n",
      "-- Predict --\n",
      "{'Angry': 0, 'Happy': 1, 'Neutral': 2, 'Sad': 3, 'Surprise': 4}\n",
      "[[0.000 0.000 0.000 0.000 1.000]\n",
      " [0.001 0.008 0.937 0.045 0.009]\n",
      " [0.000 0.166 0.821 0.011 0.002]\n",
      " [0.779 0.034 0.004 0.080 0.103]\n",
      " [0.974 0.000 0.000 0.014 0.012]\n",
      " [0.000 0.033 0.175 0.004 0.787]\n",
      " [0.999 0.000 0.000 0.000 0.001]\n",
      " [0.000 0.000 0.000 0.000 1.000]\n",
      " [0.000 0.000 1.000 0.000 0.000]\n",
      " [0.000 0.000 0.000 0.000 1.000]\n",
      " [0.991 0.001 0.000 0.006 0.002]\n",
      " [1.000 0.000 0.000 0.000 0.000]\n",
      " [0.000 0.003 0.001 0.996 0.000]\n",
      " [0.994 0.000 0.000 0.002 0.005]\n",
      " [0.001 0.001 0.125 0.000 0.874]\n",
      " [0.166 0.550 0.147 0.001 0.135]\n",
      " [0.896 0.000 0.100 0.004 0.000]\n",
      " [0.000 0.745 0.043 0.212 0.000]\n",
      " [0.286 0.000 0.000 0.000 0.714]\n",
      " [0.990 0.000 0.000 0.000 0.010]\n",
      " [0.006 0.000 0.000 0.000 0.994]\n",
      " [0.000 0.000 0.000 0.000 1.000]\n",
      " [0.000 0.000 1.000 0.000 0.000]\n",
      " [0.000 0.002 0.002 0.994 0.002]\n",
      " [0.000 0.001 0.000 0.998 0.000]]\n"
     ]
    }
   ],
   "source": [
    "print(\"-- Evaluate --\")\n",
    "scores = model.evaluate_generator(test_generator, steps=1134)\n",
    "print(\"%s: %.2f%%\" %(model.metrics_names[1], scores[1]*100))\n",
    "\n",
    "print(\" -------------------------------------------------------------------------\")\n",
    "print(\"-- Predict --\")\n",
    "output = model.predict_generator(test_generator, steps=5)\n",
    "np.set_printoptions(formatter={'float': lambda x: \"{0:0.3f}\".format(x)})\n",
    "print(test_generator.class_indices)\n",
    "print(output)\n"
   ]
  },
  {
   "cell_type": "code",
   "execution_count": 8,
   "metadata": {},
   "outputs": [],
   "source": [
    "from keras.models import load_model\n",
    "\n",
    "model.save('model_emotion_plelu_0.03_30_gray_new.h5')"
   ]
  },
  {
   "cell_type": "code",
   "execution_count": null,
   "metadata": {},
   "outputs": [],
   "source": []
  }
 ],
 "metadata": {
  "kernelspec": {
   "display_name": "Python 3",
   "language": "python",
   "name": "python3"
  },
  "language_info": {
   "codemirror_mode": {
    "name": "ipython",
    "version": 3
   },
   "file_extension": ".py",
   "mimetype": "text/x-python",
   "name": "python",
   "nbconvert_exporter": "python",
   "pygments_lexer": "ipython3",
   "version": "3.6.8"
  }
 },
 "nbformat": 4,
 "nbformat_minor": 2
}
